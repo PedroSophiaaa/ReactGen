{
 "cells": [
  {
   "cell_type": "code",
   "execution_count": 2,
   "metadata": {},
   "outputs": [],
   "source": [
    "from grupos_funcionais import detector_de_grupos_funcionais, grupos_funcionais, seletor_de_grupos_funcionais, grupo_funcional_aleatorio\n",
    "from funcoes import fitness, new_pop\n",
    "\n",
    "import pubchempy as pcp\n",
    "\n",
    "from rdkit import Chem\n",
    "from rdkit.Chem.Draw import MolToImage\n",
    "\n",
    "from PIL import ImageTk\n",
    "import tkinter as tk"
   ]
  },
  {
   "cell_type": "code",
   "execution_count": 3,
   "metadata": {},
   "outputs": [],
   "source": [
    "TAM_POP = 10\n",
    "NUM_GEN = 1000\n",
    "PM = 0.05 # Probabilidade de mutação\n",
    "PC = 0.75 # Probabilidade de cruzamento"
   ]
  },
  {
   "cell_type": "code",
   "execution_count": 3,
   "metadata": {},
   "outputs": [
    {
     "data": {
      "text/plain": [
       "{1: {'tag': 1,\n",
       "  'ind': {'Substituintes do anel nitro benzeno': {'Massa Molecular': 36.13323857345035,\n",
       "    'Área de Superfície': 0.15047404402473652,\n",
       "    'LogP': 0.46845038696344776,\n",
       "    'Anéis Aromáticos': 1,\n",
       "    'Polaridade': 117.97791400369158,\n",
       "    'Raio Molecular': 1,\n",
       "    'Densidade de carga': 0}},\n",
       "  'fitness': ('Carbonilas O excluindo COOH', 0.004454005404761301)},\n",
       " 2: {'tag': 2,\n",
       "  'ind': {'Fenóis': {'Massa Molecular': 40.38239269227136,\n",
       "    'Área de Superfície': 1.961255781442278,\n",
       "    'LogP': 0.17682030138028593,\n",
       "    'Anéis Aromáticos': 4,\n",
       "    'Polaridade': 131.38009662408479,\n",
       "    'Raio Molecular': 84,\n",
       "    'Densidade de carga': -2}},\n",
       "  'fitness': ('Fenóis', 0.002203497745878657)},\n",
       " 3: {'tag': 3,\n",
       "  'ind': {'Anilinas': {'Massa Molecular': 7.340382658939388,\n",
       "    'Área de Superfície': 4.831627605253904,\n",
       "    'LogP': 0.29971868020349113,\n",
       "    'Anéis Aromáticos': 5,\n",
       "    'Polaridade': 206.6199553853842,\n",
       "    'Raio Molecular': 0,\n",
       "    'Densidade de carga': 4}},\n",
       "  'fitness': ('Tiocarbonilas', 0.0005513230964123393)},\n",
       " 4: {'tag': 4,\n",
       "  'ind': {'Halogênios': {'Massa Molecular': 17.47985481371546,\n",
       "    'Área de Superfície': 1.3323532179760074,\n",
       "    'LogP': 0.04066483105613983,\n",
       "    'Anéis Aromáticos': 3,\n",
       "    'Polaridade': 168.46679521290952,\n",
       "    'Raio Molecular': 10,\n",
       "    'Densidade de carga': 6}},\n",
       "  'fitness': ('Carbonilas O', 0.00046326055530896386)},\n",
       " 5: {'tag': 5,\n",
       "  'ind': {'Aminas secundárias': {'Massa Molecular': 48.988070686662546,\n",
       "    'Área de Superfície': 1.1327294680174835,\n",
       "    'LogP': 0.7800347111506672,\n",
       "    'Anéis Aromáticos': 4,\n",
       "    'Polaridade': 78.61837927098351,\n",
       "    'Raio Molecular': 87,\n",
       "    'Densidade de carga': 1}},\n",
       "  'fitness': ('OH fenólico excluindo substituintes Hbond intramoleculares orto',\n",
       "   0.0010801925147768288)},\n",
       " 6: {'tag': 6,\n",
       "  'ind': {'Acetilenos terminais': {'Massa Molecular': 7.6576953280379545,\n",
       "    'Área de Superfície': 2.2470633517128014,\n",
       "    'LogP': 0.5422102798665509,\n",
       "    'Anéis Aromáticos': 1,\n",
       "    'Polaridade': 137.0846153178293,\n",
       "    'Raio Molecular': 31,\n",
       "    'Densidade de carga': 0}},\n",
       "  'fitness': ('Fenóis', 0.004358887821227493)},\n",
       " 7: {'tag': 7,\n",
       "  'ind': {'Anéis de expóxido': {'Massa Molecular': 35.466156108653614,\n",
       "    'Área de Superfície': 0.9692036385393334,\n",
       "    'LogP': 0.40900402849046313,\n",
       "    'Anéis Aromáticos': 4,\n",
       "    'Polaridade': 163.90666004660653,\n",
       "    'Raio Molecular': 23,\n",
       "    'Densidade de carga': -5}},\n",
       "  'fitness': ('Carbonilas O', 0.0006553160471767718)},\n",
       " 8: {'tag': 8,\n",
       "  'ind': {'Fenóis': {'Massa Molecular': 40.38239269227136,\n",
       "    'Área de Superfície': 1.961255781442278,\n",
       "    'LogP': 0.17682030138028593,\n",
       "    'Anéis Aromáticos': 4,\n",
       "    'Polaridade': 131.38009662408479,\n",
       "    'Raio Molecular': 84,\n",
       "    'Densidade de carga': -2}},\n",
       "  'fitness': ('Fenóis', 0.002203497745878657)},\n",
       " 9: {'tag': 9,\n",
       "  'ind': {'Tiocarbonilas': {'Massa Molecular': 10.164384283100803,\n",
       "    'Área de Superfície': 4.264599441695165,\n",
       "    'LogP': 0.5098339477823861,\n",
       "    'Anéis Aromáticos': 4,\n",
       "    'Polaridade': 205.30140062087037,\n",
       "    'Raio Molecular': 44,\n",
       "    'Densidade de carga': 10}},\n",
       "  'fitness': ('Tiocarbonilas', 0.0004394016906990795)},\n",
       " 10: {'tag': 10,\n",
       "  'ind': {'Hidroxilas alifáticas': {'Massa Molecular': 5.461650703651147,\n",
       "    'Área de Superfície': 2.593742580105896,\n",
       "    'LogP': 0.843072928913403,\n",
       "    'Anéis Aromáticos': 4,\n",
       "    'Polaridade': 207.17018755830992,\n",
       "    'Raio Molecular': 60,\n",
       "    'Densidade de carga': 1}},\n",
       "  'fitness': ('Tiocarbonilas', 0.0006511399821892113)}}"
      ]
     },
     "execution_count": 3,
     "metadata": {},
     "output_type": "execute_result"
    }
   ],
   "source": [
    "random_group = grupo_funcional_aleatorio()\n",
    "new_pop(TAM_POP, \"fitc\")"
   ]
  },
  {
   "cell_type": "code",
   "execution_count": 22,
   "metadata": {},
   "outputs": [
    {
     "name": "stdout",
     "output_type": "stream",
     "text": [
      "Compound(18730)\n",
      "C21H11NO5S\n"
     ]
    },
    {
     "data": {
      "image/png": "[encoded data removed]",
      "text/plain": [
       "<rdkit.Chem.rdchem.Mol at 0x2d7e5880d60>"
      ]
     },
     "execution_count": 22,
     "metadata": {},
     "output_type": "execute_result"
    }
   ],
   "source": [
    "molecule = input(\"Molecule name: \")\n",
    "\n",
    "try:\n",
    "    df = pcp.get_compounds(molecule, 'name', as_dataframe=True)\n",
    "    smiles = df[\"canonical_smiles\"]\n",
    "except:\n",
    "    print('Unknown molecule name.')\n",
    "\n",
    "results = pcp.get_compounds(molecule, 'name')\n",
    "for compound in results:\n",
    "    print(compound)\n",
    "    mol = Chem.MolFromSmiles(compound.isomeric_smiles)\n",
    "    print(Chem.rdMolDescriptors.CalcMolFormula(mol))\n",
    "\n",
    "mol"
   ]
  },
  {
   "cell_type": "code",
   "execution_count": 25,
   "metadata": {},
   "outputs": [
    {
     "name": "stdout",
     "output_type": "stream",
     "text": [
      "23\n",
      "123\n"
     ]
    }
   ],
   "source": [
    "print('23')\n",
    "print(123)"
   ]
  },
  {
   "cell_type": "code",
   "execution_count": 24,
   "metadata": {},
   "outputs": [
    {
     "name": "stdout",
     "output_type": "stream",
     "text": [
      "Compound(18730)\n",
      "C21H11NO5S\n"
     ]
    }
   ],
   "source": [
    "molecule = input(\"Molecule name: \")\n",
    "\n",
    "try:\n",
    "    df = pcp.get_compounds(molecule, 'name', as_dataframe=True)\n",
    "    smiles = df[\"canonical_smiles\"]\n",
    "except:\n",
    "    print('Unknown molecule name.')\n",
    "\n",
    "results = pcp.get_compounds(molecule, 'name')\n",
    "for compound in results:\n",
    "    print(compound)\n",
    "    mol = Chem.MolFromSmiles(compound.isomeric_smiles)\n",
    "    print(Chem.rdMolDescriptors.CalcMolFormula(mol))\n",
    "\n",
    "    # Criar uma janela popup\n",
    "    window = tk.Tk()\n",
    "\n",
    "    # Mostrar a imagem do benzeno em uma janela popup\n",
    "    img = MolToImage(mol)\n",
    "    photo = ImageTk.PhotoImage(img)\n",
    "    label = tk.Label(window, image=photo)\n",
    "    label.pack()\n",
    "    window.title(f\"{molecule}\")\n",
    "    window.mainloop()"
   ]
  }
 ],
 "metadata": {
  "kernelspec": {
   "display_name": "Python 3 (ipykernel)",
   "language": "python",
   "name": "python3"
  },
  "language_info": {
   "codemirror_mode": {
    "name": "ipython",
    "version": 3
   },
   "file_extension": ".py",
   "mimetype": "text/x-python",
   "name": "python",
   "nbconvert_exporter": "python",
   "pygments_lexer": "ipython3",
   "version": "3.11.3"
  }
 },
 "nbformat": 4,
 "nbformat_minor": 4
}
