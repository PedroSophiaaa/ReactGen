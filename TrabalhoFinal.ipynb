{
 "cells": [
  {
   "cell_type": "code",
   "execution_count": 2,
   "metadata": {},
   "outputs": [],
   "source": [
    "from grupos_funcionais import detector_de_grupos_funcionais, grupos_funcionais, seletor_de_grupos_funcionais, grupo_funcional_aleatorio\n",
    "from funcoes import fitness, new_pop, new_ind, mutacao, cruzamento_ponto_simples\n",
    "\n",
    "import random\n",
    "\n",
    "import pubchempy as pcp\n",
    "\n",
    "from rdkit import Chem\n",
    "from rdkit.Chem.Draw import MolToImage\n",
    "\n",
    "from PIL import ImageTk\n",
    "import tkinter as tk"
   ]
  },
  {
   "cell_type": "code",
   "execution_count": 3,
   "metadata": {},
   "outputs": [],
   "source": [
    "TAM_POP = 10\n",
    "NUM_GEN = 1000\n",
    "CHANCE_CRUZAMENTO = 0.05\n",
    "PM = 0.05 # Probabilidade de mutação\n",
    "PC = 0.75 # Probabilidade de cruzamento"
   ]
  },
  {
   "cell_type": "code",
   "execution_count": 5,
   "metadata": {},
   "outputs": [
    {
     "name": "stdout",
     "output_type": "stream",
     "text": [
      "dict_keys([0, 1, 2, 3])\n"
     ]
    },
    {
     "ename": "TypeError",
     "evalue": "unhashable type: 'slice'",
     "output_type": "error",
     "traceback": [
      "\u001b[1;31m---------------------------------------------------------------------------\u001b[0m",
      "\u001b[1;31mTypeError\u001b[0m                                 Traceback (most recent call last)",
      "Cell \u001b[1;32mIn[5], line 9\u001b[0m\n\u001b[0;32m      7\u001b[0m \u001b[39mfor\u001b[39;00m pai,mae \u001b[39min\u001b[39;00m \u001b[39mzip\u001b[39m(pais,maes):\n\u001b[0;32m      8\u001b[0m     \u001b[39mif\u001b[39;00m random\u001b[39m.\u001b[39mrandom() \u001b[39m<\u001b[39m\u001b[39m=\u001b[39m \u001b[39m1\u001b[39m:\n\u001b[1;32m----> 9\u001b[0m         filho1,filho2 \u001b[39m=\u001b[39m cruzamento_ponto_simples(pai,mae)\n\u001b[0;32m     10\u001b[0m         pop[contador] \u001b[39m=\u001b[39m filho1\n\u001b[0;32m     11\u001b[0m         pop[contador\u001b[39m+\u001b[39m\u001b[39m1\u001b[39m] \u001b[39m=\u001b[39m filho2\n",
      "File \u001b[1;32mc:\\Users\\guilherme220044\\Desktop\\projetos_python\\ReactGen\\funcoes.py:110\u001b[0m, in \u001b[0;36mcruzamento_ponto_simples\u001b[1;34m(pai, mãe)\u001b[0m\n\u001b[0;32m     99\u001b[0m \u001b[39m\u001b[39m\u001b[39m\"\"\"Operador de cruzamento de ponto simples.\u001b[39;00m\n\u001b[0;32m    100\u001b[0m \n\u001b[0;32m    101\u001b[0m \u001b[39mArgs:\u001b[39;00m\n\u001b[1;32m   (...)\u001b[0m\n\u001b[0;32m    106\u001b[0m \u001b[39m    Duas listas, sendo que cada uma representa um filho dos pais que foram os argumentos.\u001b[39;00m\n\u001b[0;32m    107\u001b[0m \u001b[39m\"\"\"\u001b[39;00m\n\u001b[0;32m    109\u001b[0m ponto_de_corte \u001b[39m=\u001b[39m random\u001b[39m.\u001b[39mrandint(\u001b[39m1\u001b[39m, \u001b[39mlen\u001b[39m(pai) \u001b[39m-\u001b[39m \u001b[39m1\u001b[39m)\n\u001b[1;32m--> 110\u001b[0m filho1 \u001b[39m=\u001b[39m pai[:ponto_de_corte] \u001b[39m+\u001b[39m mãe[ponto_de_corte:]\n\u001b[0;32m    111\u001b[0m filho2 \u001b[39m=\u001b[39m mãe[:ponto_de_corte] \u001b[39m+\u001b[39m pai[ponto_de_corte:]\n\u001b[0;32m    113\u001b[0m \u001b[39mreturn\u001b[39;00m filho1, filho2\n",
      "\u001b[1;31mTypeError\u001b[0m: unhashable type: 'slice'"
     ]
    }
   ],
   "source": [
    "pop = new_pop(4,4)\n",
    "pais = pop[0::2]\n",
    "maes = pop[1::2]\n",
    "print(pais[0].keys())\n",
    "contador = 0\n",
    "\n",
    "for pai,mae in zip(pais,maes):\n",
    "    if random.random() <= 1:\n",
    "        filho1,filho2 = cruzamento_ponto_simples(pai,mae)\n",
    "        pop[contador] = filho1\n",
    "        pop[contador+1] = filho2\n",
    "    contador += 2"
   ]
  },
  {
   "cell_type": "code",
   "execution_count": 3,
   "metadata": {},
   "outputs": [
    {
     "name": "stdout",
     "output_type": "stream",
     "text": [
      "Compound(18730)\n"
     ]
    },
    {
     "ename": "AttributeError",
     "evalue": "module 'rdkit.Chem' has no attribute 'rdMolDescriptors'",
     "output_type": "error",
     "traceback": [
      "\u001b[1;31m---------------------------------------------------------------------------\u001b[0m",
      "\u001b[1;31mAttributeError\u001b[0m                            Traceback (most recent call last)",
      "Cell \u001b[1;32mIn[3], line 13\u001b[0m\n\u001b[0;32m     11\u001b[0m     \u001b[39mprint\u001b[39m(compound)\n\u001b[0;32m     12\u001b[0m     mol \u001b[39m=\u001b[39m Chem\u001b[39m.\u001b[39mMolFromSmiles(compound\u001b[39m.\u001b[39misomeric_smiles)\n\u001b[1;32m---> 13\u001b[0m     \u001b[39mprint\u001b[39m(Chem\u001b[39m.\u001b[39;49mrdMolDescriptors\u001b[39m.\u001b[39mCalcMolFormula(mol))\n\u001b[0;32m     15\u001b[0m mol\n",
      "\u001b[1;31mAttributeError\u001b[0m: module 'rdkit.Chem' has no attribute 'rdMolDescriptors'"
     ]
    }
   ],
   "source": [
    "molecule = input(\"Molecule name: \")\n",
    "\n",
    "try:\n",
    "    df = pcp.get_compounds(molecule, 'name', as_dataframe=True)\n",
    "    smiles = df[\"canonical_smiles\"]\n",
    "except:\n",
    "    print('Unknown molecule name.')\n",
    "\n",
    "results = pcp.get_compounds(molecule, 'name')\n",
    "for compound in results:\n",
    "    print(compound)\n",
    "    mol = Chem.MolFromSmiles(compound.isomeric_smiles)\n",
    "    print(Chem.rdMolDescriptors.CalcMolFormula(mol))\n",
    "\n",
    "mol"
   ]
  },
  {
   "cell_type": "code",
   "execution_count": 6,
   "metadata": {},
   "outputs": [
    {
     "name": "stdout",
     "output_type": "stream",
     "text": [
      "Compound(18730)\n"
     ]
    },
    {
     "ename": "AttributeError",
     "evalue": "module 'rdkit.Chem' has no attribute 'rdMolDescriptors'",
     "output_type": "error",
     "traceback": [
      "\u001b[1;31m---------------------------------------------------------------------------\u001b[0m",
      "\u001b[1;31mAttributeError\u001b[0m                            Traceback (most recent call last)",
      "Cell \u001b[1;32mIn[6], line 13\u001b[0m\n\u001b[0;32m     11\u001b[0m \u001b[39mprint\u001b[39m(compound)\n\u001b[0;32m     12\u001b[0m mol \u001b[39m=\u001b[39m Chem\u001b[39m.\u001b[39mMolFromSmiles(compound\u001b[39m.\u001b[39misomeric_smiles)\n\u001b[1;32m---> 13\u001b[0m \u001b[39mprint\u001b[39m(Chem\u001b[39m.\u001b[39;49mrdMolDescriptors\u001b[39m.\u001b[39mCalcMolFormula(mol))\n\u001b[0;32m     15\u001b[0m \u001b[39m# Criar uma janela popup\u001b[39;00m\n\u001b[0;32m     16\u001b[0m window \u001b[39m=\u001b[39m tk\u001b[39m.\u001b[39mTk()\n",
      "\u001b[1;31mAttributeError\u001b[0m: module 'rdkit.Chem' has no attribute 'rdMolDescriptors'"
     ]
    }
   ],
   "source": [
    "molecule = input(\"Molecule name: \")\n",
    "\n",
    "try:\n",
    "    df = pcp.get_compounds(molecule, 'name', as_dataframe=True)\n",
    "    smiles = df[\"canonical_smiles\"]\n",
    "except:\n",
    "    print('Unknown molecule name.')\n",
    "\n",
    "results = pcp.get_compounds(molecule, 'name')\n",
    "for compound in results:\n",
    "    print(compound)\n",
    "    mol = Chem.MolFromSmiles(compound.isomeric_smiles)\n",
    "    print(Chem.rdMolDescriptors.CalcMolFormula(mol))\n",
    "\n",
    "    # Criar uma janela popup\n",
    "    window = tk.Tk()\n",
    "\n",
    "    # Mostrar a imagem do benzeno em uma janela popup\n",
    "    img = MolToImage(mol)\n",
    "    photo = ImageTk.PhotoImage(img)\n",
    "    label = tk.Label(window, image=photo)\n",
    "    label.pack()\n",
    "    window.title(f\"{molecule}\")\n",
    "    window.mainloop()"
   ]
  },
  {
   "cell_type": "code",
   "execution_count": null,
   "metadata": {},
   "outputs": [],
   "source": []
  }
 ],
 "metadata": {
  "kernelspec": {
   "display_name": "base",
   "language": "python",
   "name": "python3"
  },
  "language_info": {
   "codemirror_mode": {
    "name": "ipython",
    "version": 3
   },
   "file_extension": ".py",
   "mimetype": "text/x-python",
   "name": "python",
   "nbconvert_exporter": "python",
   "pygments_lexer": "ipython3",
   "version": "3.9.16"
  },
  "vscode": {
   "interpreter": {
    "hash": "977728382f4fd50f845a39afcbf92bf8d4742ef560067c0c9fa26136c5857de0"
   }
  }
 },
 "nbformat": 4,
 "nbformat_minor": 4
}
