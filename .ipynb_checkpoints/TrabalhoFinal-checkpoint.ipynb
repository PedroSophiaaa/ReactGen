{
 "cells": [
  {
   "cell_type": "code",
   "execution_count": 308,
   "metadata": {},
   "outputs": [],
   "source": [
    "import pubchempy as pcp\n",
    "import pandas as pd\n",
    "\n",
    "from rdkit import Chem\n",
    "from rdkit.Chem import Descriptors\n",
    "from rdkit.Chem import rdMolDescriptors\n",
    "from rdkit.Chem.Draw import MolToImage\n",
    "\n",
    "from PIL import ImageTk\n",
    "import tkinter as tk"
   ]
  },
  {
   "cell_type": "code",
   "execution_count": 313,
   "metadata": {},
   "outputs": [
    {
     "data": {
      "text/plain": [
       "'C=C'"
      ]
     },
     "execution_count": 313,
     "metadata": {},
     "output_type": "execute_result"
    }
   ],
   "source": [
    "smiles"
   ]
  },
  {
   "cell_type": "code",
   "execution_count": 281,
   "metadata": {},
   "outputs": [],
   "source": [
    "def obter_informacoes_molecula(mol):\n",
    "    nome = mol\n",
    "    compound = pcp.get_compounds(mol, 'name')\n",
    "    smiles = compound[0].isomeric_smiles\n",
    "    mol = Chem.MolFromSmiles(smiles)\n",
    "    \n",
    "    # Verificar se o SMILES foi convertido corretamente em uma molécula\n",
    "    if mol is None:\n",
    "        print(f\"Erro ao processar o SMILES: {smiles}\")\n",
    "        return None\n",
    "    \n",
    "    informacoes = {\n",
    "    \"SMILES\": smiles,\n",
    "    \"Nome\": nome,\n",
    "    \"Fórmula Molecular\": Chem.rdMolDescriptors.CalcMolFormula(mol),\n",
    "    \"Massa Molecular\": Chem.rdMolDescriptors.CalcExactMolWt(mol),\n",
    "    \"Número de Átomos\": mol.GetNumAtoms(),\n",
    "    \"Número de Ligações\": mol.GetNumBonds(),\n",
    "    \"Área de Superfície\": Chem.rdMolDescriptors.CalcTPSA(mol),\n",
    "    \"LogP\": Chem.Crippen.MolLogP(mol),\n",
    "    \"Anéis Aromáticos\": Chem.rdMolDescriptors.CalcNumAromaticRings(mol),\n",
    "    \"Número de Anéis\": Chem.rdMolDescriptors.CalcNumRings(mol),\n",
    "    \"Número de Rotâmeros\": Chem.rdMolDescriptors.CalcNumRotatableBonds(mol),\n",
    "    \"Polaridade\": Chem.Descriptors.TPSA(mol),\n",
    "    \"Raio Molecular\": Chem.Crippen.MolMR(mol)\n",
    "    # Adicione outras informações desejadas\n",
    "    }\n",
    "    \n",
    "    try:\n",
    "        # Obter informações adicionais do PubChem\n",
    "        composto = pcp.get_compounds(smiles, 'smiles')\n",
    "        if composto:\n",
    "            resultado = composto[0]\n",
    "            \n",
    "            if 'melting_point' in resultado.props:\n",
    "                informacoes['Ponto de Fusão'] = resultado.props['melting_point']\n",
    "            \n",
    "            if 'boiling_point' in resultado.props:\n",
    "                informacoes['Ponto de Ebulição'] = resultado.props['boiling_point']\n",
    "    \n",
    "    except Exception as e:\n",
    "        print(f\"Erro ao obter informações do PubChem: {e}\")\n",
    "\n",
    "    return informacoes"
   ]
  },
  {
   "cell_type": "code",
   "execution_count": 299,
   "metadata": {},
   "outputs": [
    {
     "name": "stdout",
     "output_type": "stream",
     "text": [
      "Erro ao obter informações do PubChem: 'Compound' object has no attribute 'props'\n"
     ]
    },
    {
     "data": {
      "text/plain": [
       "{'SMILES': 'C=C',\n",
       " 'Nome': 'ethylene',\n",
       " 'Fórmula Molecular': 'C2H4',\n",
       " 'Massa Molecular': 28.031300127999998,\n",
       " 'Número de Átomos': 2,\n",
       " 'Número de Ligações': 1,\n",
       " 'Área de Superfície': 0.0,\n",
       " 'LogP': 0.8022,\n",
       " 'Anéis Aromáticos': 0,\n",
       " 'Número de Anéis': 0,\n",
       " 'Número de Rotâmeros': 0,\n",
       " 'Polaridade': 0.0,\n",
       " 'Raio Molecular': 11.254000000000001}"
      ]
     },
     "execution_count": 299,
     "metadata": {},
     "output_type": "execute_result"
    }
   ],
   "source": [
    "obter_informacoes_molecula('ethylene')\n",
    "pka"
   ]
  },
  {
   "cell_type": "code",
   "execution_count": 296,
   "metadata": {},
   "outputs": [
    {
     "name": "stdout",
     "output_type": "stream",
     "text": [
      "Compound(18730)\n",
      "C21H11NO5S\n"
     ]
    }
   ],
   "source": [
    "molecule = input(\"Molecule name: \")\n",
    "\n",
    "try:\n",
    "    df = pcp.get_compounds(molecule, 'name', as_dataframe=True)\n",
    "    smiles = df[\"canonical_smiles\"]\n",
    "except:\n",
    "    print('Unknown molecule name.')\n",
    "\n",
    "results = pcp.get_compounds(molecule, 'name')\n",
    "for compound in results:\n",
    "    print(compound)\n",
    "    mol = Chem.MolFromSmiles(compound.isomeric_smiles)\n",
    "    print(Chem.rdMolDescriptors.CalcMolFormula(mol))\n",
    "\n",
    "    # Criar uma janela popup\n",
    "    window = tk.Tk()\n",
    "\n",
    "    # Mostrar a imagem do benzeno em uma janela popup\n",
    "    img = MolToImage(mol)\n",
    "    photo = ImageTk.PhotoImage(img)\n",
    "    label = tk.Label(window, image=photo)\n",
    "    label.pack()\n",
    "    window.title(f\"{molecule}\")\n",
    "    window.mainloop()"
   ]
  },
  {
   "cell_type": "code",
   "execution_count": 300,
   "metadata": {},
   "outputs": [
    {
     "name": "stdout",
     "output_type": "stream",
     "text": [
      "Grupos funcionais identificados na molécula:\n",
      "Alqueno\n"
     ]
    }
   ],
   "source": [
    "# Lista de grupos funcionais com seus SMARTS correspondentes\n",
    "compound = pcp.get_compounds(\"ethylene\", 'name')\n",
    "\n",
    "mol = Chem.MolFromSmiles(compound[0].isomeric_smiles)  # Exemplo de uma molécula (acetato)\n",
    "\n",
    "# Converter a molécula para SMILES\n",
    "smiles = Chem.MolToSmiles(mol)\n",
    "\n",
    "# Identificar os grupos funcionais presentes na molécula\n",
    "grupos_identificados = []\n",
    "for nome, smarts in grupos_funcionais.items():\n",
    "    grupo_mol = Chem.MolFromSmarts(smarts)\n",
    "    matches = mol.GetSubstructMatches(grupo_mol)\n",
    "    if len(matches) > 0:\n",
    "        grupos_identificados.append(nome)\n",
    "\n",
    "# Imprimir os grupos funcionais identificados\n",
    "print(\"Grupos funcionais identificados na molécula:\")\n",
    "for grupo in grupos_identificados:\n",
    "    print(grupo)\n"
   ]
  },
  {
   "cell_type": "code",
   "execution_count": null,
   "metadata": {},
   "outputs": [
    {
     "name": "stdout",
     "output_type": "stream",
     "text": [
      "((2,),)\n"
     ]
    }
   ],
   "source": [
    "print(groups)"
   ]
  },
  {
   "cell_type": "code",
   "execution_count": null,
   "metadata": {},
   "outputs": [],
   "source": [
    "print(Chem.rdMolDescriptors.CalcMolFormula(mol))"
   ]
  }
 ],
 "metadata": {
  "kernelspec": {
   "display_name": "Python 3 (ipykernel)",
   "language": "python",
   "name": "python3"
  },
  "language_info": {
   "codemirror_mode": {
    "name": "ipython",
    "version": 3
   },
   "file_extension": ".py",
   "mimetype": "text/x-python",
   "name": "python",
   "nbconvert_exporter": "python",
   "pygments_lexer": "ipython3",
   "version": "3.9.7"
  }
 },
 "nbformat": 4,
 "nbformat_minor": 4
}
